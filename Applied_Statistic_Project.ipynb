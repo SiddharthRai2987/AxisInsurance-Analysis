{
  "nbformat": 4,
  "nbformat_minor": 0,
  "metadata": {
    "colab": {
      "provenance": []
    },
    "kernelspec": {
      "name": "python3",
      "display_name": "Python 3"
    },
    "language_info": {
      "name": "python"
    }
  },
  "cells": [
    {
      "cell_type": "markdown",
      "source": [
        "### **Business Content**\n",
        "\n",
        "Leveraging customer information is of paramount importance for most businesses. In the case of an insurance company, the attribute of customers can be crucial in making business decisions. Hence, knowing how to explore and generate value out of such data can be an invaluable skill to have.\n",
        "\n",
        "Suppose you are hired as a Data Scientist in an Insurance company. The company wants to have a detailed understanding of the customer base for one of its Insurance Policies 'MediClaim'. The idea is to generate insights about the customers and answer a few key questions with statistical evidence, by using the past dataset. The dataset 'Axisinsurance' contains customer's details like age, sex, charges,etc. Perform the statistical analysis to answer the following questions using the collected data."
      ],
      "metadata": {
        "id": "nAysQPw9Kunl"
      }
    },
    {
      "cell_type": "markdown",
      "source": [
        "### **Objective**\n",
        "\n",
        "Statistical Analysis of Business Data. Explore the dataset and extract insights from the data. The idea is for you to get comfortable with doing statistical analysis in Python.\n",
        "\n",
        "You are expected. to do the following:\n",
        "\n",
        "\n",
        "\n",
        "1.   Explore the dataset and extract insights using Exploratory Data Analysis.\n",
        "2.   Prove (or disprove) that the medical claims made by the people who smoke are greater than those who don't.\n",
        "\n",
        "\n",
        "3.   Prove (or disprove) with statistical evidence that the BMI of females is different from that of males.\n",
        "4.   Does the smoking habit of customers depend on their region? [Hint: Create a contigency table using the pandas.crosstab() function].\n",
        "\n",
        "\n",
        "5.   Is the mean BMI of women with no children, one child, and two children the same? Explain your answer with statistical evidence.\n",
        "\n",
        "* Consider a significance Level of 0.05 for all tests.\n",
        "\n",
        "\n",
        "\n",
        "\n",
        "\n"
      ],
      "metadata": {
        "id": "rZZmlyKcLLhY"
      }
    },
    {
      "cell_type": "markdown",
      "source": [
        "### **Data Description**\n",
        "\n",
        "1. **Age** - This is an integer indicating the age of the primary beneficiary (excluding those above 64 years since they are generally covered by the government).\n",
        "2. **Sex** - This is the policyholder's gender, either male and female.\n",
        "3. **BMI** - This is the body mass index (BMI), which provides a sense of how over or underweight a personis relative to their height. BMI is equal to weight (in kilograms) divided by height (in meters) squared. An ideal BMI is within the range of 18.5 to 24.9.\n",
        "4. **Children** - This is an integer indicating the number of children/dependents covered by the insurance plan.\n",
        "5. **Smoker** - This is YES or NO depending on whether the insured regularly smoked tabacco.\n",
        "6. **Region** - This is the beneficiary's place of residence in the U.S., divided into four geographic regions - northeast, southeast,southwest, or northwest.\n",
        "7. **Charges** - Individual medical costs billed to health insurance."
      ],
      "metadata": {
        "id": "lJz_UKbZUWX5"
      }
    },
    {
      "cell_type": "code",
      "source": [],
      "metadata": {
        "id": "4t4R4SzwccmT"
      },
      "execution_count": null,
      "outputs": []
    },
    {
      "cell_type": "markdown",
      "source": [
        "###  **Importing the Libraries to Perform the Analysis.**"
      ],
      "metadata": {
        "id": "L8XGwRFQb3jo"
      }
    },
    {
      "cell_type": "code",
      "source": [
        "# Libraries to help with reading and manipulating data\n",
        "import numpy as np\n",
        "import pandas as pd\n",
        "\n",
        "# Libraries to help with data visualization\n",
        "import matplotlib.pyplot as plt\n",
        "import seaborn as sns\n",
        "\n",
        "\n",
        "# Library to help with statistical analysis\n",
        "import scipy.stats as stats"
      ],
      "metadata": {
        "id": "xQurHbBYXrad"
      },
      "execution_count": null,
      "outputs": []
    },
    {
      "cell_type": "code",
      "source": [
        "# Read the dataset by using pandas.\n",
        "df = pd.read_csv('/content/drive/MyDrive/Datasets/AxisInsurance (1).csv')"
      ],
      "metadata": {
        "id": "ITqBsgf1b_j5"
      },
      "execution_count": 3,
      "outputs": []
    },
    {
      "cell_type": "code",
      "source": [
        "# View the dataset\n",
        "df.head()"
      ],
      "metadata": {
        "colab": {
          "base_uri": "https://localhost:8080/",
          "height": 206
        },
        "id": "kEsXe9JtcpjX",
        "outputId": "fbdd35a1-365f-497e-d9d5-0340c56c0337"
      },
      "execution_count": 4,
      "outputs": [
        {
          "output_type": "execute_result",
          "data": {
            "text/plain": [
              "   age     sex     bmi  children smoker     region      charges\n",
              "0   21  female  16.000         1     no  northeast   3167.45585\n",
              "1   18    male  33.770         1     no  southeast   1725.55230\n",
              "2   28    male  33.000         3     no  southeast   4449.46200\n",
              "3   33    male  22.705         0     no  northwest  21984.47061\n",
              "4   32    male  28.880         0     no  northwest   3866.85520"
            ],
            "text/html": [
              "\n",
              "  <div id=\"df-44a1b007-5b8b-4987-9a4f-f33de42bc445\" class=\"colab-df-container\">\n",
              "    <div>\n",
              "<style scoped>\n",
              "    .dataframe tbody tr th:only-of-type {\n",
              "        vertical-align: middle;\n",
              "    }\n",
              "\n",
              "    .dataframe tbody tr th {\n",
              "        vertical-align: top;\n",
              "    }\n",
              "\n",
              "    .dataframe thead th {\n",
              "        text-align: right;\n",
              "    }\n",
              "</style>\n",
              "<table border=\"1\" class=\"dataframe\">\n",
              "  <thead>\n",
              "    <tr style=\"text-align: right;\">\n",
              "      <th></th>\n",
              "      <th>age</th>\n",
              "      <th>sex</th>\n",
              "      <th>bmi</th>\n",
              "      <th>children</th>\n",
              "      <th>smoker</th>\n",
              "      <th>region</th>\n",
              "      <th>charges</th>\n",
              "    </tr>\n",
              "  </thead>\n",
              "  <tbody>\n",
              "    <tr>\n",
              "      <th>0</th>\n",
              "      <td>21</td>\n",
              "      <td>female</td>\n",
              "      <td>16.000</td>\n",
              "      <td>1</td>\n",
              "      <td>no</td>\n",
              "      <td>northeast</td>\n",
              "      <td>3167.45585</td>\n",
              "    </tr>\n",
              "    <tr>\n",
              "      <th>1</th>\n",
              "      <td>18</td>\n",
              "      <td>male</td>\n",
              "      <td>33.770</td>\n",
              "      <td>1</td>\n",
              "      <td>no</td>\n",
              "      <td>southeast</td>\n",
              "      <td>1725.55230</td>\n",
              "    </tr>\n",
              "    <tr>\n",
              "      <th>2</th>\n",
              "      <td>28</td>\n",
              "      <td>male</td>\n",
              "      <td>33.000</td>\n",
              "      <td>3</td>\n",
              "      <td>no</td>\n",
              "      <td>southeast</td>\n",
              "      <td>4449.46200</td>\n",
              "    </tr>\n",
              "    <tr>\n",
              "      <th>3</th>\n",
              "      <td>33</td>\n",
              "      <td>male</td>\n",
              "      <td>22.705</td>\n",
              "      <td>0</td>\n",
              "      <td>no</td>\n",
              "      <td>northwest</td>\n",
              "      <td>21984.47061</td>\n",
              "    </tr>\n",
              "    <tr>\n",
              "      <th>4</th>\n",
              "      <td>32</td>\n",
              "      <td>male</td>\n",
              "      <td>28.880</td>\n",
              "      <td>0</td>\n",
              "      <td>no</td>\n",
              "      <td>northwest</td>\n",
              "      <td>3866.85520</td>\n",
              "    </tr>\n",
              "  </tbody>\n",
              "</table>\n",
              "</div>\n",
              "    <div class=\"colab-df-buttons\">\n",
              "\n",
              "  <div class=\"colab-df-container\">\n",
              "    <button class=\"colab-df-convert\" onclick=\"convertToInteractive('df-44a1b007-5b8b-4987-9a4f-f33de42bc445')\"\n",
              "            title=\"Convert this dataframe to an interactive table.\"\n",
              "            style=\"display:none;\">\n",
              "\n",
              "  <svg xmlns=\"http://www.w3.org/2000/svg\" height=\"24px\" viewBox=\"0 -960 960 960\">\n",
              "    <path d=\"M120-120v-720h720v720H120Zm60-500h600v-160H180v160Zm220 220h160v-160H400v160Zm0 220h160v-160H400v160ZM180-400h160v-160H180v160Zm440 0h160v-160H620v160ZM180-180h160v-160H180v160Zm440 0h160v-160H620v160Z\"/>\n",
              "  </svg>\n",
              "    </button>\n",
              "\n",
              "  <style>\n",
              "    .colab-df-container {\n",
              "      display:flex;\n",
              "      gap: 12px;\n",
              "    }\n",
              "\n",
              "    .colab-df-convert {\n",
              "      background-color: #E8F0FE;\n",
              "      border: none;\n",
              "      border-radius: 50%;\n",
              "      cursor: pointer;\n",
              "      display: none;\n",
              "      fill: #1967D2;\n",
              "      height: 32px;\n",
              "      padding: 0 0 0 0;\n",
              "      width: 32px;\n",
              "    }\n",
              "\n",
              "    .colab-df-convert:hover {\n",
              "      background-color: #E2EBFA;\n",
              "      box-shadow: 0px 1px 2px rgba(60, 64, 67, 0.3), 0px 1px 3px 1px rgba(60, 64, 67, 0.15);\n",
              "      fill: #174EA6;\n",
              "    }\n",
              "\n",
              "    .colab-df-buttons div {\n",
              "      margin-bottom: 4px;\n",
              "    }\n",
              "\n",
              "    [theme=dark] .colab-df-convert {\n",
              "      background-color: #3B4455;\n",
              "      fill: #D2E3FC;\n",
              "    }\n",
              "\n",
              "    [theme=dark] .colab-df-convert:hover {\n",
              "      background-color: #434B5C;\n",
              "      box-shadow: 0px 1px 3px 1px rgba(0, 0, 0, 0.15);\n",
              "      filter: drop-shadow(0px 1px 2px rgba(0, 0, 0, 0.3));\n",
              "      fill: #FFFFFF;\n",
              "    }\n",
              "  </style>\n",
              "\n",
              "    <script>\n",
              "      const buttonEl =\n",
              "        document.querySelector('#df-44a1b007-5b8b-4987-9a4f-f33de42bc445 button.colab-df-convert');\n",
              "      buttonEl.style.display =\n",
              "        google.colab.kernel.accessAllowed ? 'block' : 'none';\n",
              "\n",
              "      async function convertToInteractive(key) {\n",
              "        const element = document.querySelector('#df-44a1b007-5b8b-4987-9a4f-f33de42bc445');\n",
              "        const dataTable =\n",
              "          await google.colab.kernel.invokeFunction('convertToInteractive',\n",
              "                                                    [key], {});\n",
              "        if (!dataTable) return;\n",
              "\n",
              "        const docLinkHtml = 'Like what you see? Visit the ' +\n",
              "          '<a target=\"_blank\" href=https://colab.research.google.com/notebooks/data_table.ipynb>data table notebook</a>'\n",
              "          + ' to learn more about interactive tables.';\n",
              "        element.innerHTML = '';\n",
              "        dataTable['output_type'] = 'display_data';\n",
              "        await google.colab.output.renderOutput(dataTable, element);\n",
              "        const docLink = document.createElement('div');\n",
              "        docLink.innerHTML = docLinkHtml;\n",
              "        element.appendChild(docLink);\n",
              "      }\n",
              "    </script>\n",
              "  </div>\n",
              "\n",
              "\n",
              "<div id=\"df-3b5e9f59-2b0d-47ec-b147-52164fb69cda\">\n",
              "  <button class=\"colab-df-quickchart\" onclick=\"quickchart('df-3b5e9f59-2b0d-47ec-b147-52164fb69cda')\"\n",
              "            title=\"Suggest charts\"\n",
              "            style=\"display:none;\">\n",
              "\n",
              "<svg xmlns=\"http://www.w3.org/2000/svg\" height=\"24px\"viewBox=\"0 0 24 24\"\n",
              "     width=\"24px\">\n",
              "    <g>\n",
              "        <path d=\"M19 3H5c-1.1 0-2 .9-2 2v14c0 1.1.9 2 2 2h14c1.1 0 2-.9 2-2V5c0-1.1-.9-2-2-2zM9 17H7v-7h2v7zm4 0h-2V7h2v10zm4 0h-2v-4h2v4z\"/>\n",
              "    </g>\n",
              "</svg>\n",
              "  </button>\n",
              "\n",
              "<style>\n",
              "  .colab-df-quickchart {\n",
              "      --bg-color: #E8F0FE;\n",
              "      --fill-color: #1967D2;\n",
              "      --hover-bg-color: #E2EBFA;\n",
              "      --hover-fill-color: #174EA6;\n",
              "      --disabled-fill-color: #AAA;\n",
              "      --disabled-bg-color: #DDD;\n",
              "  }\n",
              "\n",
              "  [theme=dark] .colab-df-quickchart {\n",
              "      --bg-color: #3B4455;\n",
              "      --fill-color: #D2E3FC;\n",
              "      --hover-bg-color: #434B5C;\n",
              "      --hover-fill-color: #FFFFFF;\n",
              "      --disabled-bg-color: #3B4455;\n",
              "      --disabled-fill-color: #666;\n",
              "  }\n",
              "\n",
              "  .colab-df-quickchart {\n",
              "    background-color: var(--bg-color);\n",
              "    border: none;\n",
              "    border-radius: 50%;\n",
              "    cursor: pointer;\n",
              "    display: none;\n",
              "    fill: var(--fill-color);\n",
              "    height: 32px;\n",
              "    padding: 0;\n",
              "    width: 32px;\n",
              "  }\n",
              "\n",
              "  .colab-df-quickchart:hover {\n",
              "    background-color: var(--hover-bg-color);\n",
              "    box-shadow: 0 1px 2px rgba(60, 64, 67, 0.3), 0 1px 3px 1px rgba(60, 64, 67, 0.15);\n",
              "    fill: var(--button-hover-fill-color);\n",
              "  }\n",
              "\n",
              "  .colab-df-quickchart-complete:disabled,\n",
              "  .colab-df-quickchart-complete:disabled:hover {\n",
              "    background-color: var(--disabled-bg-color);\n",
              "    fill: var(--disabled-fill-color);\n",
              "    box-shadow: none;\n",
              "  }\n",
              "\n",
              "  .colab-df-spinner {\n",
              "    border: 2px solid var(--fill-color);\n",
              "    border-color: transparent;\n",
              "    border-bottom-color: var(--fill-color);\n",
              "    animation:\n",
              "      spin 1s steps(1) infinite;\n",
              "  }\n",
              "\n",
              "  @keyframes spin {\n",
              "    0% {\n",
              "      border-color: transparent;\n",
              "      border-bottom-color: var(--fill-color);\n",
              "      border-left-color: var(--fill-color);\n",
              "    }\n",
              "    20% {\n",
              "      border-color: transparent;\n",
              "      border-left-color: var(--fill-color);\n",
              "      border-top-color: var(--fill-color);\n",
              "    }\n",
              "    30% {\n",
              "      border-color: transparent;\n",
              "      border-left-color: var(--fill-color);\n",
              "      border-top-color: var(--fill-color);\n",
              "      border-right-color: var(--fill-color);\n",
              "    }\n",
              "    40% {\n",
              "      border-color: transparent;\n",
              "      border-right-color: var(--fill-color);\n",
              "      border-top-color: var(--fill-color);\n",
              "    }\n",
              "    60% {\n",
              "      border-color: transparent;\n",
              "      border-right-color: var(--fill-color);\n",
              "    }\n",
              "    80% {\n",
              "      border-color: transparent;\n",
              "      border-right-color: var(--fill-color);\n",
              "      border-bottom-color: var(--fill-color);\n",
              "    }\n",
              "    90% {\n",
              "      border-color: transparent;\n",
              "      border-bottom-color: var(--fill-color);\n",
              "    }\n",
              "  }\n",
              "</style>\n",
              "\n",
              "  <script>\n",
              "    async function quickchart(key) {\n",
              "      const quickchartButtonEl =\n",
              "        document.querySelector('#' + key + ' button');\n",
              "      quickchartButtonEl.disabled = true;  // To prevent multiple clicks.\n",
              "      quickchartButtonEl.classList.add('colab-df-spinner');\n",
              "      try {\n",
              "        const charts = await google.colab.kernel.invokeFunction(\n",
              "            'suggestCharts', [key], {});\n",
              "      } catch (error) {\n",
              "        console.error('Error during call to suggestCharts:', error);\n",
              "      }\n",
              "      quickchartButtonEl.classList.remove('colab-df-spinner');\n",
              "      quickchartButtonEl.classList.add('colab-df-quickchart-complete');\n",
              "    }\n",
              "    (() => {\n",
              "      let quickchartButtonEl =\n",
              "        document.querySelector('#df-3b5e9f59-2b0d-47ec-b147-52164fb69cda button');\n",
              "      quickchartButtonEl.style.display =\n",
              "        google.colab.kernel.accessAllowed ? 'block' : 'none';\n",
              "    })();\n",
              "  </script>\n",
              "</div>\n",
              "\n",
              "    </div>\n",
              "  </div>\n"
            ],
            "application/vnd.google.colaboratory.intrinsic+json": {
              "type": "dataframe",
              "variable_name": "df",
              "summary": "{\n  \"name\": \"df\",\n  \"rows\": 1338,\n  \"fields\": [\n    {\n      \"column\": \"age\",\n      \"properties\": {\n        \"dtype\": \"number\",\n        \"std\": 14,\n        \"min\": 18,\n        \"max\": 64,\n        \"num_unique_values\": 47,\n        \"samples\": [\n          43,\n          45,\n          55\n        ],\n        \"semantic_type\": \"\",\n        \"description\": \"\"\n      }\n    },\n    {\n      \"column\": \"sex\",\n      \"properties\": {\n        \"dtype\": \"category\",\n        \"num_unique_values\": 2,\n        \"samples\": [\n          \"male\",\n          \"female\"\n        ],\n        \"semantic_type\": \"\",\n        \"description\": \"\"\n      }\n    },\n    {\n      \"column\": \"bmi\",\n      \"properties\": {\n        \"dtype\": \"number\",\n        \"std\": 6.1456742371615185,\n        \"min\": 14.0,\n        \"max\": 53.13,\n        \"num_unique_values\": 552,\n        \"samples\": [\n          30.97,\n          38.28\n        ],\n        \"semantic_type\": \"\",\n        \"description\": \"\"\n      }\n    },\n    {\n      \"column\": \"children\",\n      \"properties\": {\n        \"dtype\": \"number\",\n        \"std\": 1,\n        \"min\": 0,\n        \"max\": 5,\n        \"num_unique_values\": 6,\n        \"samples\": [\n          1,\n          3\n        ],\n        \"semantic_type\": \"\",\n        \"description\": \"\"\n      }\n    },\n    {\n      \"column\": \"smoker\",\n      \"properties\": {\n        \"dtype\": \"category\",\n        \"num_unique_values\": 2,\n        \"samples\": [\n          \"yes\",\n          \"no\"\n        ],\n        \"semantic_type\": \"\",\n        \"description\": \"\"\n      }\n    },\n    {\n      \"column\": \"region\",\n      \"properties\": {\n        \"dtype\": \"category\",\n        \"num_unique_values\": 4,\n        \"samples\": [\n          \"southeast\",\n          \"southwest\"\n        ],\n        \"semantic_type\": \"\",\n        \"description\": \"\"\n      }\n    },\n    {\n      \"column\": \"charges\",\n      \"properties\": {\n        \"dtype\": \"number\",\n        \"std\": 12110.011236694001,\n        \"min\": 1121.8739,\n        \"max\": 63770.42801,\n        \"num_unique_values\": 1337,\n        \"samples\": [\n          8688.85885,\n          3366.6697\n        ],\n        \"semantic_type\": \"\",\n        \"description\": \"\"\n      }\n    }\n  ]\n}"
            }
          },
          "metadata": {},
          "execution_count": 4
        }
      ]
    },
    {
      "cell_type": "code",
      "source": [
        "# View the shape of the dataset\n",
        "df.shape"
      ],
      "metadata": {
        "colab": {
          "base_uri": "https://localhost:8080/"
        },
        "id": "m3E-xNbvdEkK",
        "outputId": "3b6c86ac-f543-4b30-a0d3-e3685928f7cd"
      },
      "execution_count": 5,
      "outputs": [
        {
          "output_type": "execute_result",
          "data": {
            "text/plain": [
              "(1338, 7)"
            ]
          },
          "metadata": {},
          "execution_count": 5
        }
      ]
    },
    {
      "cell_type": "code",
      "source": [
        "# View the information about the datset\n",
        "df.info()"
      ],
      "metadata": {
        "colab": {
          "base_uri": "https://localhost:8080/"
        },
        "id": "sNO54ygSdU1U",
        "outputId": "20d0084d-5d35-4309-8675-e01342625186"
      },
      "execution_count": 7,
      "outputs": [
        {
          "output_type": "stream",
          "name": "stdout",
          "text": [
            "<class 'pandas.core.frame.DataFrame'>\n",
            "RangeIndex: 1338 entries, 0 to 1337\n",
            "Data columns (total 7 columns):\n",
            " #   Column    Non-Null Count  Dtype  \n",
            "---  ------    --------------  -----  \n",
            " 0   age       1338 non-null   int64  \n",
            " 1   sex       1338 non-null   object \n",
            " 2   bmi       1338 non-null   float64\n",
            " 3   children  1338 non-null   int64  \n",
            " 4   smoker    1338 non-null   object \n",
            " 5   region    1338 non-null   object \n",
            " 6   charges   1338 non-null   float64\n",
            "dtypes: float64(2), int64(2), object(3)\n",
            "memory usage: 73.3+ KB\n"
          ]
        }
      ]
    },
    {
      "cell_type": "markdown",
      "source": [
        "=> There is no null value in the dataset."
      ],
      "metadata": {
        "id": "2D7esW90diFs"
      }
    },
    {
      "cell_type": "code",
      "source": [
        "# Get the summary of the dataset\n",
        "df.describe()"
      ],
      "metadata": {
        "colab": {
          "base_uri": "https://localhost:8080/",
          "height": 300
        },
        "id": "0-DrtWhAdd0w",
        "outputId": "912e0ad2-230b-4ca2-dbcd-f9c83f669836"
      },
      "execution_count": 8,
      "outputs": [
        {
          "output_type": "execute_result",
          "data": {
            "text/plain": [
              "               age          bmi     children       charges\n",
              "count  1338.000000  1338.000000  1338.000000   1338.000000\n",
              "mean     39.207025    30.682687     1.094918  13270.422265\n",
              "std      14.049960     6.145674     1.205493  12110.011237\n",
              "min      18.000000    14.000000     0.000000   1121.873900\n",
              "25%      27.000000    26.315000     0.000000   4740.287150\n",
              "50%      39.000000    30.400000     1.000000   9382.033000\n",
              "75%      51.000000    34.700000     2.000000  16639.912515\n",
              "max      64.000000    53.130000     5.000000  63770.428010"
            ],
            "text/html": [
              "\n",
              "  <div id=\"df-f4f55f88-a6d0-4b48-a856-fbd423e54dc6\" class=\"colab-df-container\">\n",
              "    <div>\n",
              "<style scoped>\n",
              "    .dataframe tbody tr th:only-of-type {\n",
              "        vertical-align: middle;\n",
              "    }\n",
              "\n",
              "    .dataframe tbody tr th {\n",
              "        vertical-align: top;\n",
              "    }\n",
              "\n",
              "    .dataframe thead th {\n",
              "        text-align: right;\n",
              "    }\n",
              "</style>\n",
              "<table border=\"1\" class=\"dataframe\">\n",
              "  <thead>\n",
              "    <tr style=\"text-align: right;\">\n",
              "      <th></th>\n",
              "      <th>age</th>\n",
              "      <th>bmi</th>\n",
              "      <th>children</th>\n",
              "      <th>charges</th>\n",
              "    </tr>\n",
              "  </thead>\n",
              "  <tbody>\n",
              "    <tr>\n",
              "      <th>count</th>\n",
              "      <td>1338.000000</td>\n",
              "      <td>1338.000000</td>\n",
              "      <td>1338.000000</td>\n",
              "      <td>1338.000000</td>\n",
              "    </tr>\n",
              "    <tr>\n",
              "      <th>mean</th>\n",
              "      <td>39.207025</td>\n",
              "      <td>30.682687</td>\n",
              "      <td>1.094918</td>\n",
              "      <td>13270.422265</td>\n",
              "    </tr>\n",
              "    <tr>\n",
              "      <th>std</th>\n",
              "      <td>14.049960</td>\n",
              "      <td>6.145674</td>\n",
              "      <td>1.205493</td>\n",
              "      <td>12110.011237</td>\n",
              "    </tr>\n",
              "    <tr>\n",
              "      <th>min</th>\n",
              "      <td>18.000000</td>\n",
              "      <td>14.000000</td>\n",
              "      <td>0.000000</td>\n",
              "      <td>1121.873900</td>\n",
              "    </tr>\n",
              "    <tr>\n",
              "      <th>25%</th>\n",
              "      <td>27.000000</td>\n",
              "      <td>26.315000</td>\n",
              "      <td>0.000000</td>\n",
              "      <td>4740.287150</td>\n",
              "    </tr>\n",
              "    <tr>\n",
              "      <th>50%</th>\n",
              "      <td>39.000000</td>\n",
              "      <td>30.400000</td>\n",
              "      <td>1.000000</td>\n",
              "      <td>9382.033000</td>\n",
              "    </tr>\n",
              "    <tr>\n",
              "      <th>75%</th>\n",
              "      <td>51.000000</td>\n",
              "      <td>34.700000</td>\n",
              "      <td>2.000000</td>\n",
              "      <td>16639.912515</td>\n",
              "    </tr>\n",
              "    <tr>\n",
              "      <th>max</th>\n",
              "      <td>64.000000</td>\n",
              "      <td>53.130000</td>\n",
              "      <td>5.000000</td>\n",
              "      <td>63770.428010</td>\n",
              "    </tr>\n",
              "  </tbody>\n",
              "</table>\n",
              "</div>\n",
              "    <div class=\"colab-df-buttons\">\n",
              "\n",
              "  <div class=\"colab-df-container\">\n",
              "    <button class=\"colab-df-convert\" onclick=\"convertToInteractive('df-f4f55f88-a6d0-4b48-a856-fbd423e54dc6')\"\n",
              "            title=\"Convert this dataframe to an interactive table.\"\n",
              "            style=\"display:none;\">\n",
              "\n",
              "  <svg xmlns=\"http://www.w3.org/2000/svg\" height=\"24px\" viewBox=\"0 -960 960 960\">\n",
              "    <path d=\"M120-120v-720h720v720H120Zm60-500h600v-160H180v160Zm220 220h160v-160H400v160Zm0 220h160v-160H400v160ZM180-400h160v-160H180v160Zm440 0h160v-160H620v160ZM180-180h160v-160H180v160Zm440 0h160v-160H620v160Z\"/>\n",
              "  </svg>\n",
              "    </button>\n",
              "\n",
              "  <style>\n",
              "    .colab-df-container {\n",
              "      display:flex;\n",
              "      gap: 12px;\n",
              "    }\n",
              "\n",
              "    .colab-df-convert {\n",
              "      background-color: #E8F0FE;\n",
              "      border: none;\n",
              "      border-radius: 50%;\n",
              "      cursor: pointer;\n",
              "      display: none;\n",
              "      fill: #1967D2;\n",
              "      height: 32px;\n",
              "      padding: 0 0 0 0;\n",
              "      width: 32px;\n",
              "    }\n",
              "\n",
              "    .colab-df-convert:hover {\n",
              "      background-color: #E2EBFA;\n",
              "      box-shadow: 0px 1px 2px rgba(60, 64, 67, 0.3), 0px 1px 3px 1px rgba(60, 64, 67, 0.15);\n",
              "      fill: #174EA6;\n",
              "    }\n",
              "\n",
              "    .colab-df-buttons div {\n",
              "      margin-bottom: 4px;\n",
              "    }\n",
              "\n",
              "    [theme=dark] .colab-df-convert {\n",
              "      background-color: #3B4455;\n",
              "      fill: #D2E3FC;\n",
              "    }\n",
              "\n",
              "    [theme=dark] .colab-df-convert:hover {\n",
              "      background-color: #434B5C;\n",
              "      box-shadow: 0px 1px 3px 1px rgba(0, 0, 0, 0.15);\n",
              "      filter: drop-shadow(0px 1px 2px rgba(0, 0, 0, 0.3));\n",
              "      fill: #FFFFFF;\n",
              "    }\n",
              "  </style>\n",
              "\n",
              "    <script>\n",
              "      const buttonEl =\n",
              "        document.querySelector('#df-f4f55f88-a6d0-4b48-a856-fbd423e54dc6 button.colab-df-convert');\n",
              "      buttonEl.style.display =\n",
              "        google.colab.kernel.accessAllowed ? 'block' : 'none';\n",
              "\n",
              "      async function convertToInteractive(key) {\n",
              "        const element = document.querySelector('#df-f4f55f88-a6d0-4b48-a856-fbd423e54dc6');\n",
              "        const dataTable =\n",
              "          await google.colab.kernel.invokeFunction('convertToInteractive',\n",
              "                                                    [key], {});\n",
              "        if (!dataTable) return;\n",
              "\n",
              "        const docLinkHtml = 'Like what you see? Visit the ' +\n",
              "          '<a target=\"_blank\" href=https://colab.research.google.com/notebooks/data_table.ipynb>data table notebook</a>'\n",
              "          + ' to learn more about interactive tables.';\n",
              "        element.innerHTML = '';\n",
              "        dataTable['output_type'] = 'display_data';\n",
              "        await google.colab.output.renderOutput(dataTable, element);\n",
              "        const docLink = document.createElement('div');\n",
              "        docLink.innerHTML = docLinkHtml;\n",
              "        element.appendChild(docLink);\n",
              "      }\n",
              "    </script>\n",
              "  </div>\n",
              "\n",
              "\n",
              "<div id=\"df-35b0e758-3559-4a26-90a1-a6a3e0c11027\">\n",
              "  <button class=\"colab-df-quickchart\" onclick=\"quickchart('df-35b0e758-3559-4a26-90a1-a6a3e0c11027')\"\n",
              "            title=\"Suggest charts\"\n",
              "            style=\"display:none;\">\n",
              "\n",
              "<svg xmlns=\"http://www.w3.org/2000/svg\" height=\"24px\"viewBox=\"0 0 24 24\"\n",
              "     width=\"24px\">\n",
              "    <g>\n",
              "        <path d=\"M19 3H5c-1.1 0-2 .9-2 2v14c0 1.1.9 2 2 2h14c1.1 0 2-.9 2-2V5c0-1.1-.9-2-2-2zM9 17H7v-7h2v7zm4 0h-2V7h2v10zm4 0h-2v-4h2v4z\"/>\n",
              "    </g>\n",
              "</svg>\n",
              "  </button>\n",
              "\n",
              "<style>\n",
              "  .colab-df-quickchart {\n",
              "      --bg-color: #E8F0FE;\n",
              "      --fill-color: #1967D2;\n",
              "      --hover-bg-color: #E2EBFA;\n",
              "      --hover-fill-color: #174EA6;\n",
              "      --disabled-fill-color: #AAA;\n",
              "      --disabled-bg-color: #DDD;\n",
              "  }\n",
              "\n",
              "  [theme=dark] .colab-df-quickchart {\n",
              "      --bg-color: #3B4455;\n",
              "      --fill-color: #D2E3FC;\n",
              "      --hover-bg-color: #434B5C;\n",
              "      --hover-fill-color: #FFFFFF;\n",
              "      --disabled-bg-color: #3B4455;\n",
              "      --disabled-fill-color: #666;\n",
              "  }\n",
              "\n",
              "  .colab-df-quickchart {\n",
              "    background-color: var(--bg-color);\n",
              "    border: none;\n",
              "    border-radius: 50%;\n",
              "    cursor: pointer;\n",
              "    display: none;\n",
              "    fill: var(--fill-color);\n",
              "    height: 32px;\n",
              "    padding: 0;\n",
              "    width: 32px;\n",
              "  }\n",
              "\n",
              "  .colab-df-quickchart:hover {\n",
              "    background-color: var(--hover-bg-color);\n",
              "    box-shadow: 0 1px 2px rgba(60, 64, 67, 0.3), 0 1px 3px 1px rgba(60, 64, 67, 0.15);\n",
              "    fill: var(--button-hover-fill-color);\n",
              "  }\n",
              "\n",
              "  .colab-df-quickchart-complete:disabled,\n",
              "  .colab-df-quickchart-complete:disabled:hover {\n",
              "    background-color: var(--disabled-bg-color);\n",
              "    fill: var(--disabled-fill-color);\n",
              "    box-shadow: none;\n",
              "  }\n",
              "\n",
              "  .colab-df-spinner {\n",
              "    border: 2px solid var(--fill-color);\n",
              "    border-color: transparent;\n",
              "    border-bottom-color: var(--fill-color);\n",
              "    animation:\n",
              "      spin 1s steps(1) infinite;\n",
              "  }\n",
              "\n",
              "  @keyframes spin {\n",
              "    0% {\n",
              "      border-color: transparent;\n",
              "      border-bottom-color: var(--fill-color);\n",
              "      border-left-color: var(--fill-color);\n",
              "    }\n",
              "    20% {\n",
              "      border-color: transparent;\n",
              "      border-left-color: var(--fill-color);\n",
              "      border-top-color: var(--fill-color);\n",
              "    }\n",
              "    30% {\n",
              "      border-color: transparent;\n",
              "      border-left-color: var(--fill-color);\n",
              "      border-top-color: var(--fill-color);\n",
              "      border-right-color: var(--fill-color);\n",
              "    }\n",
              "    40% {\n",
              "      border-color: transparent;\n",
              "      border-right-color: var(--fill-color);\n",
              "      border-top-color: var(--fill-color);\n",
              "    }\n",
              "    60% {\n",
              "      border-color: transparent;\n",
              "      border-right-color: var(--fill-color);\n",
              "    }\n",
              "    80% {\n",
              "      border-color: transparent;\n",
              "      border-right-color: var(--fill-color);\n",
              "      border-bottom-color: var(--fill-color);\n",
              "    }\n",
              "    90% {\n",
              "      border-color: transparent;\n",
              "      border-bottom-color: var(--fill-color);\n",
              "    }\n",
              "  }\n",
              "</style>\n",
              "\n",
              "  <script>\n",
              "    async function quickchart(key) {\n",
              "      const quickchartButtonEl =\n",
              "        document.querySelector('#' + key + ' button');\n",
              "      quickchartButtonEl.disabled = true;  // To prevent multiple clicks.\n",
              "      quickchartButtonEl.classList.add('colab-df-spinner');\n",
              "      try {\n",
              "        const charts = await google.colab.kernel.invokeFunction(\n",
              "            'suggestCharts', [key], {});\n",
              "      } catch (error) {\n",
              "        console.error('Error during call to suggestCharts:', error);\n",
              "      }\n",
              "      quickchartButtonEl.classList.remove('colab-df-spinner');\n",
              "      quickchartButtonEl.classList.add('colab-df-quickchart-complete');\n",
              "    }\n",
              "    (() => {\n",
              "      let quickchartButtonEl =\n",
              "        document.querySelector('#df-35b0e758-3559-4a26-90a1-a6a3e0c11027 button');\n",
              "      quickchartButtonEl.style.display =\n",
              "        google.colab.kernel.accessAllowed ? 'block' : 'none';\n",
              "    })();\n",
              "  </script>\n",
              "</div>\n",
              "\n",
              "    </div>\n",
              "  </div>\n"
            ],
            "application/vnd.google.colaboratory.intrinsic+json": {
              "type": "dataframe",
              "summary": "{\n  \"name\": \"df\",\n  \"rows\": 8,\n  \"fields\": [\n    {\n      \"column\": \"age\",\n      \"properties\": {\n        \"dtype\": \"number\",\n        \"std\": 460.6106090399993,\n        \"min\": 14.049960379216168,\n        \"max\": 1338.0,\n        \"num_unique_values\": 8,\n        \"samples\": [\n          39.20702541106129,\n          39.0,\n          1338.0\n        ],\n        \"semantic_type\": \"\",\n        \"description\": \"\"\n      }\n    },\n    {\n      \"column\": \"bmi\",\n      \"properties\": {\n        \"dtype\": \"number\",\n        \"std\": 463.3971591331893,\n        \"min\": 6.1456742371615185,\n        \"max\": 1338.0,\n        \"num_unique_values\": 8,\n        \"samples\": [\n          30.682686846038862,\n          30.4,\n          1338.0\n        ],\n        \"semantic_type\": \"\",\n        \"description\": \"\"\n      }\n    },\n    {\n      \"column\": \"children\",\n      \"properties\": {\n        \"dtype\": \"number\",\n        \"std\": 472.5368318870757,\n        \"min\": 0.0,\n        \"max\": 1338.0,\n        \"num_unique_values\": 7,\n        \"samples\": [\n          1338.0,\n          1.0949177877429,\n          2.0\n        ],\n        \"semantic_type\": \"\",\n        \"description\": \"\"\n      }\n    },\n    {\n      \"column\": \"charges\",\n      \"properties\": {\n        \"dtype\": \"number\",\n        \"std\": 20381.922846226596,\n        \"min\": 1121.8739,\n        \"max\": 63770.42801,\n        \"num_unique_values\": 8,\n        \"samples\": [\n          13270.422265141257,\n          9382.033,\n          1338.0\n        ],\n        \"semantic_type\": \"\",\n        \"description\": \"\"\n      }\n    }\n  ]\n}"
            }
          },
          "metadata": {},
          "execution_count": 8
        }
      ]
    },
    {
      "cell_type": "markdown",
      "source": [
        "### **Univariate Analysis**"
      ],
      "metadata": {
        "id": "nP6-ne27h9wZ"
      }
    },
    {
      "cell_type": "markdown",
      "source": [
        "###**Age Distribution**"
      ],
      "metadata": {
        "id": "Mqn2IWgrcpT3"
      }
    },
    {
      "cell_type": "code",
      "source": [
        "# Set the style for plots\n",
        "sns.set_style(\"whitegrid\")\n",
        "\n",
        "# Set Figure Size for Plot\n",
        "plt.figure(figsize=(10,5))\n",
        "\n",
        "# Histogram For Age Distribution\n",
        "sns.histplot(df['age'], bins = 20, kde = True, color=\"skyblue\")\n",
        "plt.title('Age Distribution')\n",
        "plt.xlabel('Age')\n",
        "plt.ylabel('Count')\n",
        "plt.show()"
      ],
      "metadata": {
        "colab": {
          "base_uri": "https://localhost:8080/",
          "height": 487
        },
        "id": "1gNC7A_3eAj4",
        "outputId": "4e356245-3cae-46b6-ec56-ed0a62c5fbba"
      },
      "execution_count": 19,
      "outputs": [
        {
          "output_type": "display_data",
          "data": {
            "text/plain": [
              "<Figure size 1000x500 with 1 Axes>"
            ],
            "image/png": "[encoded data removed]"
          },
          "metadata": {}
        }
      ]
    },
    {
      "cell_type": "markdown",
      "source": [
        "The dataset consists of individuals primarily between the ages of 18 to 64, with a relatively even spread.\n"
      ],
      "metadata": {
        "id": "XTDn6q2ai6_7"
      }
    },
    {
      "cell_type": "markdown",
      "source": [
        "###**BMI Distribution**"
      ],
      "metadata": {
        "id": "7It7rXDycx9U"
      }
    },
    {
      "cell_type": "code",
      "source": [
        "# Set Figure Size For Plot\n",
        "plt.figure(figsize=(10,5))\n",
        "\n",
        "# Histogram for BMI Distribution\n",
        "sns.histplot(df['bmi'], bins = 20, kde = True, color = \"salmon\")\n",
        "plt.title('BMI Distribution')\n",
        "plt.xlabel('BMI')\n",
        "plt.ylabel('Count')\n",
        "plt.show()"
      ],
      "metadata": {
        "colab": {
          "base_uri": "https://localhost:8080/",
          "height": 487
        },
        "id": "9XgMHdZEfMIi",
        "outputId": "b8df6da2-85dd-435c-fc77-a2bb9628a474"
      },
      "execution_count": 21,
      "outputs": [
        {
          "output_type": "display_data",
          "data": {
            "text/plain": [
              "<Figure size 1000x500 with 1 Axes>"
            ],
            "image/png": "[encoded data removed]"
          },
          "metadata": {}
        }
      ]
    },
    {
      "cell_type": "markdown",
      "source": [
        "Most individuals have a BMI between 18.5 to 40, with some extreme values indicating obesity."
      ],
      "metadata": {
        "id": "AMoolPgVi5FN"
      }
    },
    {
      "cell_type": "markdown",
      "source": [
        "###**Medical Charges**"
      ],
      "metadata": {
        "id": "IhDfes7Rc5ge"
      }
    },
    {
      "cell_type": "code",
      "source": [
        "# Set the Figure Size For Plot\n",
        "plt.figure(figsize=(10,5))\n",
        "\n",
        "# Histogram for Medical Charges\n",
        "sns.histplot(df['charges'], bins = 20, kde = True, color = \"lightgreen\")\n",
        "plt.title('Distribution of Medical Charges')\n",
        "plt.xlabel('Charges')\n",
        "plt.ylabel('Count')\n",
        "plt.show()"
      ],
      "metadata": {
        "colab": {
          "base_uri": "https://localhost:8080/",
          "height": 487
        },
        "id": "Na4_hEbOliw9",
        "outputId": "cc753895-eb2e-484d-84b8-b20142d2f768"
      },
      "execution_count": 24,
      "outputs": [
        {
          "output_type": "display_data",
          "data": {
            "text/plain": [
              "<Figure size 1000x500 with 1 Axes>"
            ],
            "image/png": "[encoded data removed]"
          },
          "metadata": {}
        }
      ]
    },
    {
      "cell_type": "markdown",
      "source": [
        "The distribution is right-skewed, meaning a small number of individuals incur extremely high medical costs.\n"
      ],
      "metadata": {
        "id": "vQw1P_RdmdXc"
      }
    },
    {
      "cell_type": "markdown",
      "source": [
        "###**Gender Distribution**"
      ],
      "metadata": {
        "id": "nraLvA2gdGdF"
      }
    },
    {
      "cell_type": "code",
      "source": [
        "# Set the Figure Size For Plot\n",
        "plt.figure(figsize=(10,5))\n",
        "\n",
        "# CountPlot for Gender Distribution\n",
        "sns.countplot(x='sex', data = df, palette = 'pastel')\n",
        "plt.title('Gender Distribution')\n",
        "plt.xlabel('Gender')\n",
        "plt.ylabel('Count')\n",
        "plt.show()"
      ],
      "metadata": {
        "colab": {
          "base_uri": "https://localhost:8080/",
          "height": 574
        },
        "id": "fNyKbXMhkOze",
        "outputId": "7c7cc2f7-075f-44bc-a96a-a4234f8e51a8"
      },
      "execution_count": 23,
      "outputs": [
        {
          "output_type": "stream",
          "name": "stderr",
          "text": [
            "<ipython-input-23-f36e25dcc2ca>:5: FutureWarning: \n",
            "\n",
            "Passing `palette` without assigning `hue` is deprecated and will be removed in v0.14.0. Assign the `x` variable to `hue` and set `legend=False` for the same effect.\n",
            "\n",
            "  sns.countplot(x='sex', data = df, palette = 'pastel')\n"
          ]
        },
        {
          "output_type": "display_data",
          "data": {
            "text/plain": [
              "<Figure size 1000x500 with 1 Axes>"
            ],
            "image/png": "[encoded data removed]"
          },
          "metadata": {}
        }
      ]
    },
    {
      "cell_type": "markdown",
      "source": [
        "The dataset contains a roughly equal number of males and females.\n"
      ],
      "metadata": {
        "id": "tzS6F5U_lgDW"
      }
    },
    {
      "cell_type": "markdown",
      "source": [
        "###**CountPlot for Smoker**"
      ],
      "metadata": {
        "id": "BaqW37JOdLj6"
      }
    },
    {
      "cell_type": "code",
      "source": [
        "# Set the Figure Size For Plot\n",
        "plt.figure(figsize=(10,5))\n",
        "\n",
        "# CountPlot for Smoker\n",
        "sns.countplot(x = 'smoker', data = df, palette = ['salmon', 'lightgreen'])\n",
        "plt.title('Smoker Distribution')\n",
        "plt.xlabel('Smoker')\n",
        "plt.ylabel('Count')\n",
        "plt.show()"
      ],
      "metadata": {
        "colab": {
          "base_uri": "https://localhost:8080/",
          "height": 574
        },
        "id": "ot8x5xPVlI_h",
        "outputId": "2f30fc69-45db-4ce2-afff-0c1d9bdadae9"
      },
      "execution_count": 25,
      "outputs": [
        {
          "output_type": "stream",
          "name": "stderr",
          "text": [
            "<ipython-input-25-ab8f7da1e823>:5: FutureWarning: \n",
            "\n",
            "Passing `palette` without assigning `hue` is deprecated and will be removed in v0.14.0. Assign the `x` variable to `hue` and set `legend=False` for the same effect.\n",
            "\n",
            "  sns.countplot(x = 'smoker', data = df, palette = ['salmon', 'lightgreen'])\n"
          ]
        },
        {
          "output_type": "display_data",
          "data": {
            "text/plain": [
              "<Figure size 1000x500 with 1 Axes>"
            ],
            "image/png": "[encoded data removed]"
          },
          "metadata": {}
        }
      ]
    },
    {
      "cell_type": "markdown",
      "source": [
        "There are significantly more non-smokers than smokers.\n"
      ],
      "metadata": {
        "id": "_0b-I2x2nCKI"
      }
    },
    {
      "cell_type": "markdown",
      "source": [
        "###**Region Distribution**"
      ],
      "metadata": {
        "id": "P5TQX8jxdYUx"
      }
    },
    {
      "cell_type": "code",
      "source": [
        "# # Set the Figure Size For Plot\n",
        "plt.figure(figsize=(10,5))\n",
        "\n",
        "# Countplot for Region Distribution\n",
        "sns.countplot(x = 'region', data = df, palette = 'pastel', order = df['region'].value_counts().index)\n",
        "plt.title('Region Distribution')\n",
        "plt.xlabel('Region')\n",
        "plt.ylabel('Count')\n",
        "plt.show()"
      ],
      "metadata": {
        "colab": {
          "base_uri": "https://localhost:8080/",
          "height": 574
        },
        "id": "qXS16L6xm8iC",
        "outputId": "d34943ac-3fae-4016-f935-85d413d8ec8e"
      },
      "execution_count": 26,
      "outputs": [
        {
          "output_type": "stream",
          "name": "stderr",
          "text": [
            "<ipython-input-26-f3828b58a646>:5: FutureWarning: \n",
            "\n",
            "Passing `palette` without assigning `hue` is deprecated and will be removed in v0.14.0. Assign the `x` variable to `hue` and set `legend=False` for the same effect.\n",
            "\n",
            "  sns.countplot(x = 'region', data = df, palette = 'pastel', order = df['region'].value_counts().index)\n"
          ]
        },
        {
          "output_type": "display_data",
          "data": {
            "text/plain": [
              "<Figure size 1000x500 with 1 Axes>"
            ],
            "image/png": "[encoded data removed]"
          },
          "metadata": {}
        }
      ]
    },
    {
      "cell_type": "markdown",
      "source": [
        "he policyholders are fairly evenly distributed across the four regions."
      ],
      "metadata": {
        "id": "L84UmpMFojyj"
      }
    },
    {
      "cell_type": "markdown",
      "source": [
        "### **Bivariate Analysis**"
      ],
      "metadata": {
        "id": "Ojoh2416ollG"
      }
    },
    {
      "cell_type": "markdown",
      "source": [
        "###**Medical Charges by Smoking Status**"
      ],
      "metadata": {
        "id": "B2FMo6-Gd4hg"
      }
    },
    {
      "cell_type": "code",
      "source": [
        "# Boxplot for Medical Charges by Smoking Status\n",
        "plt.figure(figsize=(10,5))\n",
        "sns.boxplot(x='smoker', y='charges', data=df, palette = ['salmon', 'lightgreen'])\n",
        "plt.title('Medical Charges by Smoking Status')\n",
        "plt.xlabel('Smoker')\n",
        "plt.ylabel('Charges')\n",
        "plt.show()"
      ],
      "metadata": {
        "colab": {
          "base_uri": "https://localhost:8080/",
          "height": 574
        },
        "id": "Lmot-xe2oPRC",
        "outputId": "3f8cbb6e-887d-4ddc-8c59-7875948eb446"
      },
      "execution_count": 27,
      "outputs": [
        {
          "output_type": "stream",
          "name": "stderr",
          "text": [
            "<ipython-input-27-5b36fec20fd7>:3: FutureWarning: \n",
            "\n",
            "Passing `palette` without assigning `hue` is deprecated and will be removed in v0.14.0. Assign the `x` variable to `hue` and set `legend=False` for the same effect.\n",
            "\n",
            "  sns.boxplot(x='smoker', y='charges', data=df, palette = ['salmon', 'lightgreen'])\n"
          ]
        },
        {
          "output_type": "display_data",
          "data": {
            "text/plain": [
              "<Figure size 1000x500 with 1 Axes>"
            ],
            "image/png": "[encoded data removed]"
          },
          "metadata": {}
        }
      ]
    },
    {
      "cell_type": "markdown",
      "source": [
        "1. Smokers have significantly higher median charges, with many outliers in the high-cost range.\n",
        "2. This suggests that smoking is a major contributor to increased medical expenses."
      ],
      "metadata": {
        "id": "TOrATJwNq5Mf"
      }
    },
    {
      "cell_type": "markdown",
      "source": [
        "###**BMI by Gender**"
      ],
      "metadata": {
        "id": "KNN_aOEvd-xQ"
      }
    },
    {
      "cell_type": "code",
      "source": [
        "# Boxplot for BMI by Gender\n",
        "plt.figure(figsize=(10,5))\n",
        "sns.boxplot(x = 'sex', y = 'bmi', data = df, palette = ['lightcoral', 'lightgreen'])\n",
        "plt.title('BMI by Gender')\n",
        "plt.xlabel('Gender')\n",
        "plt.ylabel('BMI')\n",
        "plt.show()"
      ],
      "metadata": {
        "colab": {
          "base_uri": "https://localhost:8080/",
          "height": 574
        },
        "id": "izmR-uzfpANY",
        "outputId": "79adf92e-ac7a-4eac-892d-7b759f917b90"
      },
      "execution_count": 30,
      "outputs": [
        {
          "output_type": "stream",
          "name": "stderr",
          "text": [
            "<ipython-input-30-d9844a6250af>:3: FutureWarning: \n",
            "\n",
            "Passing `palette` without assigning `hue` is deprecated and will be removed in v0.14.0. Assign the `x` variable to `hue` and set `legend=False` for the same effect.\n",
            "\n",
            "  sns.boxplot(x = 'sex', y = 'bmi', data = df, palette = ['lightcoral', 'lightgreen'])\n"
          ]
        },
        {
          "output_type": "display_data",
          "data": {
            "text/plain": [
              "<Figure size 1000x500 with 1 Axes>"
            ],
            "image/png": "[encoded data removed]"
          },
          "metadata": {}
        }
      ]
    },
    {
      "cell_type": "markdown",
      "source": [
        "The BMI distribution for males and females appears similar, with a slight tendency for males to have higher BMIs."
      ],
      "metadata": {
        "id": "ztqcH55TrAQn"
      }
    },
    {
      "cell_type": "markdown",
      "source": [
        "###**BMI among Women By Number of Children**"
      ],
      "metadata": {
        "id": "VHjvuBl0eC5Q"
      }
    },
    {
      "cell_type": "code",
      "source": [
        "# Boxplot for BMI among Women By Number of Children\n",
        "plt.figure(figsize=(10,5))\n",
        "sns.boxplot(x = 'children', y = 'bmi', data = df[df['sex'] == 'female'], palette= 'pastel')\n",
        "plt.title('BMI Among Women By Number of Children')\n",
        "plt.xlabel('Number of Children')\n",
        "plt.ylabel('BMI')\n",
        "plt.show()"
      ],
      "metadata": {
        "colab": {
          "base_uri": "https://localhost:8080/",
          "height": 574
        },
        "id": "myVjmA4jpyIW",
        "outputId": "d1d4963e-461a-4c6a-b3f3-80e7d82ad518"
      },
      "execution_count": 31,
      "outputs": [
        {
          "output_type": "stream",
          "name": "stderr",
          "text": [
            "<ipython-input-31-5a06ce88f50f>:3: FutureWarning: \n",
            "\n",
            "Passing `palette` without assigning `hue` is deprecated and will be removed in v0.14.0. Assign the `x` variable to `hue` and set `legend=False` for the same effect.\n",
            "\n",
            "  sns.boxplot(x = 'children', y = 'bmi', data = df[df['sex'] == 'female'], palette= 'pastel')\n"
          ]
        },
        {
          "output_type": "display_data",
          "data": {
            "text/plain": [
              "<Figure size 1000x500 with 1 Axes>"
            ],
            "image/png": "[encoded data removed]"
          },
          "metadata": {}
        }
      ]
    },
    {
      "cell_type": "markdown",
      "source": [
        "he BMI values appear fairly consistent regardless of the number of children, suggesting no strong relationship."
      ],
      "metadata": {
        "id": "KQTtFt74rHVB"
      }
    },
    {
      "cell_type": "markdown",
      "source": [
        "### **Do Smokers Have Higher Medical Claims?**\n",
        "##**Hypotheses**\n",
        "\n",
        "**Null Hypothesis (H₀)**: The average medical charges for smokers and non-smokers are the same.\n",
        "\n",
        "**Alternative Hypothesis (H₁)**: Smokers have significantly higher medical charges than non-smokers.\n",
        "\n",
        "**Independent t-test** (Welch's t-test) is used to compare the means of two independent groups with unequal variances.\n"
      ],
      "metadata": {
        "id": "QWTaf7KdrPLa"
      }
    },
    {
      "cell_type": "code",
      "source": [
        "# Importing ttest_ind to perfom the Hypothese\n",
        "from scipy.stats import ttest_ind\n",
        "\n",
        "# Extract medical charges for smokers and non-smokers\n",
        "charges_smokers = df[df['smoker'] == 'yes']['charges']\n",
        "charges_non_smokers = df[df['smoker'] == 'no']['charges']\n",
        "\n",
        "# Perform Independent t-test for Medical Charges\n",
        "t_stat,p_value = ttest_ind(charges_smokers, charges_non_smokers, equal_var= False)\n",
        "\n",
        "# Display Results\n",
        "t_stat,p_value"
      ],
      "metadata": {
        "colab": {
          "base_uri": "https://localhost:8080/"
        },
        "id": "FppfjsaKq0h0",
        "outputId": "d2b1d968-ef79-4b49-afe0-fe4fe04f96c9"
      },
      "execution_count": 32,
      "outputs": [
        {
          "output_type": "execute_result",
          "data": {
            "text/plain": [
              "(32.751887766341824, 5.88946444671698e-103)"
            ]
          },
          "metadata": {},
          "execution_count": 32
        }
      ]
    },
    {
      "cell_type": "markdown",
      "source": [
        "1. **t-statistic** = 32.75 (a very large difference between groups).\n",
        "\n",
        "2. **p-value** ≈ 0 (far below 0.05).\n",
        "\n",
        "3. **Conclusion**: Reject the null hypothesis → Smokers have significantly higher medical charges than non-smokers.\n"
      ],
      "metadata": {
        "id": "GxnOvnX9tlqG"
      }
    },
    {
      "cell_type": "markdown",
      "source": [
        "### **Is There a Difference in BMI Between Males and Females?**\n",
        "\n",
        "## **Hypotheses**\n",
        "\n",
        "**Null Hypothesis (H₀)**: The average BMI of males and females is the same.\n",
        "\n",
        "**Alternative Hypothesis (H₁)**: The average BMI of males and females is different.\n",
        "\n",
        "**Independent t-test** is used to compare the mean BMI of males and females."
      ],
      "metadata": {
        "id": "d0WptbTDtypx"
      }
    },
    {
      "cell_type": "code",
      "source": [
        "# Importing ttest_ind to perform Hypotheses\n",
        "from scipy.stats import ttest_ind\n",
        "\n",
        "# Extract BMI for Gender\n",
        "bmi_males = df[df['sex'] == 'male']['bmi']\n",
        "bmi_females = df[df['sex'] == 'female']['bmi']\n",
        "\n",
        "# Perform Independent t-test for BMI of males and females\n",
        "t_stat,p_value = ttest_ind(bmi_males, bmi_females, equal_var = False)\n",
        "\n",
        "# Display Results\n",
        "t_stat,p_value"
      ],
      "metadata": {
        "colab": {
          "base_uri": "https://localhost:8080/"
        },
        "id": "uZdyGjKfthpL",
        "outputId": "27641ecc-94c6-457d-d05e-66ce93fce27f"
      },
      "execution_count": 34,
      "outputs": [
        {
          "output_type": "execute_result",
          "data": {
            "text/plain": [
              "(1.5672822877610648, 0.11728564127728781)"
            ]
          },
          "metadata": {},
          "execution_count": 34
        }
      ]
    },
    {
      "cell_type": "markdown",
      "source": [
        "1. **t-statistic** = 1.57, indicating a small difference.\n",
        "\n",
        "2. **p-value** = 0.117, which is greater than 0.05.\n",
        "\n",
        "3. **Conclusion: Fail to reject the null hypothesis** → There is no **significant difference** in BMI between males and females."
      ],
      "metadata": {
        "id": "vK1G70yVwYmZ"
      }
    },
    {
      "cell_type": "markdown",
      "source": [
        "### **Does Smoking Depend on Region?**\n",
        "## **Hypotheses**\n",
        "\n",
        "**Null Hypothesis (H₀)**: Smoking habits are independent of region.\n",
        "\n",
        "**Alternative Hypothesis (H₁)** : Smoking habits depend on region.\n",
        "\n",
        "**Chi-square test** is used to check for independence between categorical variables.\n"
      ],
      "metadata": {
        "id": "YCAJoh42woBy"
      }
    },
    {
      "cell_type": "code",
      "source": [
        "# Importing chi2_contingency from scipy.stats to Perform Chi-Square test\n",
        "from scipy.stats import chi2_contingency\n",
        "\n",
        "\n",
        "# Creating a Contingency table for Smoking v/s Region\n",
        "contingency_table = pd.crosstab(df['smoker'], df['region'])\n",
        "\n",
        "# Perform Chi-Square test\n",
        "chi2_stat,p_value_chi, dof, expected = chi2_contingency(contingency_table)\n",
        "\n",
        "# Display Results\n",
        "chi2_stat,p_value_chi, dof, expected"
      ],
      "metadata": {
        "colab": {
          "base_uri": "https://localhost:8080/"
        },
        "id": "80EPIWTsujJb",
        "outputId": "655e5d4c-e765-48de-d9c9-4ff2ab3b2954"
      },
      "execution_count": 35,
      "outputs": [
        {
          "output_type": "execute_result",
          "data": {
            "text/plain": [
              "(7.34347776140707,\n",
              " 0.06171954839170547,\n",
              " 3,\n",
              " array([[257.65022422, 258.44544096, 289.45889387, 258.44544096],\n",
              "        [ 66.34977578,  66.55455904,  74.54110613,  66.55455904]]))"
            ]
          },
          "metadata": {},
          "execution_count": 35
        }
      ]
    },
    {
      "cell_type": "markdown",
      "source": [
        "1. **Chi-square statistic = 7.34**, indicating some variation.\n",
        "\n",
        "2. **p-value** = 0.061, which is slightly above 0.05.\n",
        "\n",
        "3. **Conclusion: Fail to reject the null hypothesis** → **Smoking habits do not significantly depend on region** at a 5% significance level."
      ],
      "metadata": {
        "id": "OHfrjSThyJRv"
      }
    },
    {
      "cell_type": "markdown",
      "source": [
        "### **Is the Mean BMI of Women with 0, 1, and 2 Children the Same?**\n",
        "\n",
        "## **Hypotheses**\n",
        "\n",
        "**Null Hypothesis (H₀)**: The mean BMI is the same across women with different numbers of children.\n",
        "\n",
        "**Alternative Hypothesis (H₁)**: At least one group has a significantly different mean BMI.\n",
        "\n",
        "**ANOVA test** is used to compare more than two groups."
      ],
      "metadata": {
        "id": "8J-4TSQ8yYwo"
      }
    },
    {
      "cell_type": "code",
      "source": [
        "#Importing f_oneway From scipy.stat to Perform ANOVA test (Since we compare more than two groups)\n",
        "from scipy.stats import f_oneway\n",
        "\n",
        "# Extract BMI data for women with 0, 1, and 2 children\n",
        "bmi_0_children = df[(df['sex'] == 'female') & (df['children'] == 0)]['bmi']\n",
        "bmi_1_child = df[(df['sex'] == 'female') & (df['children'] == 1)]['bmi']\n",
        "bmi_2_children = df[(df['sex'] == 'female') & (df['children'] == 2)]['bmi']\n",
        "\n",
        "# Perform one-way ANOVA\n",
        "f_stat_bmi, p_value_bmi_anova = f_oneway(bmi_0_children, bmi_1_child, bmi_2_children)\n",
        "\n",
        "# Display results\n",
        "f_stat_bmi, p_value_bmi_anova"
      ],
      "metadata": {
        "colab": {
          "base_uri": "https://localhost:8080/"
        },
        "id": "o6AN1zvUyJDG",
        "outputId": "c76f8ec0-eb31-4a4b-8860-f9cb82156679"
      },
      "execution_count": 36,
      "outputs": [
        {
          "output_type": "execute_result",
          "data": {
            "text/plain": [
              "(0.3286778001560304, 0.7200129592186635)"
            ]
          },
          "metadata": {},
          "execution_count": 36
        }
      ]
    },
    {
      "cell_type": "markdown",
      "source": [
        "1. **F-statistic = 0.33**, indicating minimal variation.\n",
        "\n",
        "2. **p-value = 0.72**, which is far greater than 0.05.\n",
        "\n",
        "3. **Conclusion: Fail to reject the null hypothesis** **→ The mean BMI of women with different numbers of children is not significantly different.**"
      ],
      "metadata": {
        "id": "9TnyXjpGzYSW"
      }
    },
    {
      "cell_type": "markdown",
      "source": [
        "### **Final Business Insights & Recommendations**\n",
        "1. **Smoking is a significant cost factor**\n",
        "\n",
        " => Smokers have much **higher medical expenses** than non-smokers.\n",
        "\n",
        " => **Recommendation**: The company could implement higher premiums for smokers or incentivize quitting programs.\n",
        "\n",
        "2. **BMI is similar between genders**\n",
        "\n",
        " => No significant BMI difference between males and females.\n",
        "\n",
        " => **Recommendation**: Gender-based BMI policies may not be needed.\n",
        "\n",
        "3. **Smoking habits are independent of region**\n",
        "\n",
        " => No region shows a significantly different smoking rate.\n",
        "\n",
        " => **Recommendation**: Regional smoking behavior does not need special consideration in insurance pricing.\n",
        "\n",
        "4. **Number of children does not affect BMI for women**\n",
        "\n",
        " => Having 0, 1, or 2 children does not impact BMI.\n",
        "\n",
        " => **Recommendation**: Child count should not be factored into BMI-based policy adjustments."
      ],
      "metadata": {
        "id": "LklMe_twzqcK"
      }
    },
    {
      "cell_type": "code",
      "source": [],
      "metadata": {
        "id": "CWlj-WHd0ppT"
      },
      "execution_count": null,
      "outputs": []
    }
  ]
}